{
 "cells": [
  {
   "cell_type": "markdown",
   "id": "3078697f",
   "metadata": {},
   "source": [
    "### AULA 1\n"
   ]
  },
  {
   "cell_type": "code",
   "execution_count": 4,
   "id": "1ad522d9",
   "metadata": {},
   "outputs": [
    {
     "name": "stdout",
     "output_type": "stream",
     "text": [
      "Digite seu nome:Algusto\n",
      "seja bem vindo Algusto\n"
     ]
    }
   ],
   "source": [
    "nome = input('Digite seu nome:');\n",
    "print('seja bem vindo', nome);"
   ]
  },
  {
   "cell_type": "markdown",
   "id": "b0bfd304",
   "metadata": {},
   "source": [
    "### AULA 2\n"
   ]
  },
  {
   "cell_type": "code",
   "execution_count": null,
   "id": "1f3cd526",
   "metadata": {},
   "outputs": [],
   "source": [
    "numb1 = int(input(\"Digite o Valor:\"));\n",
    "numb2 = int(input(\"Digite o valor:\"));\n",
    "soma = numb1 + numb2;\n",
    "print(\"A some ente {} e {} é {}\".format(numb1, numb2, soma));"
   ]
  },
  {
   "cell_type": "markdown",
   "id": "0230da9a",
   "metadata": {},
   "source": [
    "### AULA 3"
   ]
  },
  {
   "cell_type": "code",
   "execution_count": null,
   "id": "7a757517",
   "metadata": {},
   "outputs": [],
   "source": [
    "a = input('Digite algo:');\n",
    "print('O tipo é:', type(a));\n",
    "print('É numerico:', a.isnumeric());\n",
    "print('Tem espaço:', a.isspace());\n"
   ]
  },
  {
   "cell_type": "markdown",
   "id": "ff036c70",
   "metadata": {},
   "source": [
    "### AULA 4.  Faça um programa que leia um numero inteiro e mostre seu sucessor e seu antecessor "
   ]
  },
  {
   "cell_type": "code",
   "execution_count": null,
   "id": "ccb0aaed",
   "metadata": {},
   "outputs": [],
   "source": [
    "numb = int(input(\"Digite um valor:\"));\n",
    "s = numb + 1;\n",
    "a = numb - 1;\n",
    "print('O numero digitado foi {}, o sucessor é {}, e o antecessor é {}'.format(numb, s, a));"
   ]
  },
  {
   "cell_type": "markdown",
   "id": "88e10990",
   "metadata": {},
   "source": [
    "### Cirie um algoritmo que leia um numero e mostre o seu dobro, triplo e raiz quadrada\n"
   ]
  },
  {
   "cell_type": "code",
   "execution_count": 3,
   "id": "908ddf8b",
   "metadata": {},
   "outputs": [
    {
     "name": "stdout",
     "output_type": "stream",
     "text": [
      "Digite um valor:45\n",
      "O valor é 45.0, o dobro será 90.0, o triplo será 135.0, sua raiz é 6.708\n"
     ]
    }
   ],
   "source": [
    "numb = float(input('Digite um valor:'));\n",
    "d = numb * 2;\n",
    "t = numb * 3;\n",
    "r = numb ** (1/2);\n",
    "print('O valor é {}, o dobro será {}, o triplo será {}, sua raiz é {:.3f}'.format(numb, d, t, r));"
   ]
  },
  {
   "cell_type": "markdown",
   "id": "1e44f684",
   "metadata": {},
   "source": [
    "### Faça um programa que leia um numero inteiro e mostre sua tabuada "
   ]
  },
  {
   "cell_type": "code",
   "execution_count": 3,
   "id": "d03daa5e",
   "metadata": {},
   "outputs": [
    {
     "name": "stdout",
     "output_type": "stream",
     "text": [
      "Digite um valor:2\n",
      "2 x 1 = 2\n",
      "2 x 2 = 4\n",
      "2 x 3 = 6\n",
      "2 x 4 = 8\n",
      "2 x 5 = 10\n",
      "2 x 6 = 12\n",
      "2 x 7 = 14\n",
      "2 x 8 = 16\n",
      "2 x 9 = 18\n",
      "2 x 10 = 20\n"
     ]
    }
   ],
   "source": [
    "numb = int(input('Digite um valor:'));\n",
    "print('{} x {} = {}'.format(numb, 1, numb *1));\n",
    "print('{} x {} = {}'.format(numb, 2, numb *2));\n",
    "print('{} x {} = {}'.format(numb, 3, numb *3));\n",
    "print('{} x {} = {}'.format(numb, 4, numb *4));\n",
    "print('{} x {} = {}'.format(numb, 5, numb *5));\n",
    "print('{} x {} = {}'.format(numb, 6, numb *6));\n",
    "print('{} x {} = {}'.format(numb, 7, numb *7));\n",
    "print('{} x {} = {}'.format(numb, 8, numb *8));\n",
    "print('{} x {} = {}'.format(numb, 9, numb *9));\n",
    "print('{} x {} = {}'.format(numb, 10, numb *10));"
   ]
  },
  {
   "cell_type": "markdown",
   "id": "3e25a058",
   "metadata": {},
   "source": [
    "### Quanto dinheiro uma pessoa tem na carteira e mostre quantos dólares ele pode comprar. "
   ]
  },
  {
   "cell_type": "code",
   "execution_count": 3,
   "id": "328be130",
   "metadata": {},
   "outputs": [
    {
     "name": "stdout",
     "output_type": "stream",
     "text": [
      "Quantos em Reais a pessoa possui? R$129\n",
      "Com R$ 129.0, você pode comprar US$ 26.327\n"
     ]
    }
   ],
   "source": [
    "numb = float(input('Quantos em Reais a pessoa possui? R$'));\n",
    "d = numb / 4.90;\n",
    "print('Com R$ {}, você pode comprar US$ {:.3f}'.format(numb, d));"
   ]
  },
  {
   "cell_type": "markdown",
   "id": "e7ba8bcb",
   "metadata": {},
   "source": [
    "### Faça um programa que leia a largura e altura de uma parede em metros, calcule a sua área e a quantidade de tinta necessária para pintá-la. sabendo que cada litro de tinta pinta uma área de 2m "
   ]
  },
  {
   "cell_type": "code",
   "execution_count": 10,
   "id": "903bb286",
   "metadata": {},
   "outputs": [
    {
     "name": "stdout",
     "output_type": "stream",
     "text": [
      "Qual a largura em metros:3\n",
      "Qual a altura em metros:2\n",
      "O valor da área em metros é 6.00, precisa-se de 3.0L de tinta para pintar a parede\n"
     ]
    }
   ],
   "source": [
    "largura = float(input('Qual a largura em metros:'));\n",
    "altura = float(input('Qual a altura em metros:'));\n",
    "area = largura * altura;\n",
    "print('O valor da área em metros é {:.2f}, precisa-se de {}L de tinta para pintar a parede'.format(area, area/2));\n",
    "\n"
   ]
  },
  {
   "cell_type": "markdown",
   "id": "4ca5a0b9",
   "metadata": {},
   "source": [
    "### Qual o preço de um produto e mostre seu novo preço, com 5% de desconto"
   ]
  },
  {
   "cell_type": "code",
   "execution_count": 17,
   "id": "6b35d397",
   "metadata": {},
   "outputs": [
    {
     "name": "stdout",
     "output_type": "stream",
     "text": [
      "Qual o preço do produto: R$45.82\n",
      "Valor do desconto: %21.08\n",
      "O valor do produto é R$56.90, e o desconto será de %21.08 após o desconto valerá R$44.91\n"
     ]
    }
   ],
   "source": [
    "preço = float(input('Qual o preço do produto: R$'));\n",
    "desconto = float(input('Valor do desconto: %'));\n",
    "desc = numb - (numb * desconto/100);\n",
    "print('O valor do produto é R${:.2f}, e o desconto será de {}% após o desconto valerá R${:.2f}'.format(numb, desconto, desc));"
   ]
  },
  {
   "cell_type": "markdown",
   "id": "fc706de7",
   "metadata": {},
   "source": [
    "### Mostre o valor do salario e seu novo salario depois do aumento."
   ]
  },
  {
   "cell_type": "code",
   "execution_count": 18,
   "id": "d9c44159",
   "metadata": {},
   "outputs": [
    {
     "name": "stdout",
     "output_type": "stream",
     "text": [
      "Qual o valor do salario: R$1350.80\n",
      "Valor do aumento: %23.3\n",
      "O salario era R$1350.80, sofreu um reajuste de 23.30%, o novo salario será de R$1665.54\n"
     ]
    }
   ],
   "source": [
    "salario = float(input('Qual o valor do salario: R$'));\n",
    "aumento = float(input('Valor do aumento: %'));\n",
    "novo = salario + (salario * aumento/100);\n",
    "print('O salario era R${:.2f}, sofreu um reajuste de {:.2f}%, o novo salario será de R${:.2f}'.format(salario, aumento, novo))"
   ]
  },
  {
   "cell_type": "markdown",
   "id": "03639659",
   "metadata": {},
   "source": [
    "### Programa que converte a temperatura."
   ]
  },
  {
   "cell_type": "code",
   "execution_count": 24,
   "id": "bec2076e",
   "metadata": {},
   "outputs": [
    {
     "name": "stdout",
     "output_type": "stream",
     "text": [
      "Qual a temperatura C 36\n",
      "O valor em F será de 96.8\n",
      "Em K será de 309.15\n"
     ]
    }
   ],
   "source": [
    "tempC = float(input('Qual a temperatura C '));\n",
    "f = (tempC * 9/5) + 32; \n",
    "k = tempC + 273.15;\n",
    "print('O valor em F será de {}\\nEm K será de {}'.format(f, k));"
   ]
  },
  {
   "cell_type": "markdown",
   "id": "573f48f4",
   "metadata": {},
   "source": [
    "### Programa que pergunte a quantidade de km percorridos por um carro alugado e a quantidade de dias pelos quais ele foi alugado. Calcule o preço a pagar. sabendo que o carro custa Reais 60 por dia e Reais 0.15 por km rodado."
   ]
  },
  {
   "cell_type": "code",
   "execution_count": 28,
   "id": "16e05cd0",
   "metadata": {},
   "outputs": [
    {
     "name": "stdout",
     "output_type": "stream",
     "text": [
      "Quantos dias alugados?10\n",
      "Quantos KM rodados 45\n",
      "Total a pagar será 606.75\n"
     ]
    }
   ],
   "source": [
    "dias = int(input('Quantos dias alugados?'));\n",
    "km = float(input('Quantos KM rodados '));\n",
    "pagar = (dias * 60)+ (km * 0.15); \n",
    "print('Total a pagar será {}'.format(pagar));"
   ]
  },
  {
   "cell_type": "markdown",
   "id": "aa809ddd",
   "metadata": {},
   "source": [
    "### AULA 5: UTILIZANDO MÓDULO."
   ]
  },
  {
   "cell_type": "markdown",
   "id": "961b007f",
   "metadata": {},
   "source": [
    "### Programa que leia um numero real qualquer e mostre na tela a sua porção inteira."
   ]
  },
  {
   "cell_type": "code",
   "execution_count": 30,
   "id": "8c47433b",
   "metadata": {},
   "outputs": [
    {
     "name": "stdout",
     "output_type": "stream",
     "text": [
      "Digite um valor:81\n",
      "O valor da raiz será 9.00\n"
     ]
    }
   ],
   "source": [
    "import math\n",
    "numb = int(input('Digite um valor:'));\n",
    "raiz = math.sqrt(numb)\n",
    "print('O valor da raiz será {:.2f}'.format(raiz));"
   ]
  },
  {
   "cell_type": "markdown",
   "id": "74ff3dac",
   "metadata": {},
   "source": [
    "### Programa que leia o comprimento e do cateto oposto e do cateto adjacente de um triangulo retangulo, calcule e mostre o comprimento da hipotenusa."
   ]
  },
  {
   "cell_type": "code",
   "execution_count": 34,
   "id": "e419617b",
   "metadata": {},
   "outputs": [
    {
     "name": "stdout",
     "output_type": "stream",
     "text": [
      "Digite o cateto oposto:7\n",
      "Digite o cateto adjacente:9\n",
      "O valor da hipotenusa será: 11.40\n"
     ]
    }
   ],
   "source": [
    "import math\n",
    "catetoO = float(input('Digite o cateto oposto:'))\n",
    "catetoA = float(input('Digite o cateto adjacente:'))\n",
    "m = (catetoO**2) + (catetoA**2);\n",
    "q = math.sqrt(m);\n",
    "print('O valor da hipotenusa será: {:.2f}'.format(q));"
   ]
  },
  {
   "cell_type": "markdown",
   "id": "cc04d5bc",
   "metadata": {},
   "source": [
    "### Programa que leia um angulo qualquer e mostre na tela o valor do seno, cosseno e tangente desse angulo."
   ]
  },
  {
   "cell_type": "code",
   "execution_count": 38,
   "id": "2b34c73a",
   "metadata": {},
   "outputs": [
    {
     "name": "stdout",
     "output_type": "stream",
     "text": [
      "Digite o angulo:180\n",
      "Cosseno é -0.598, Seno é -0.801, Tangente é 1.339\n"
     ]
    }
   ],
   "source": [
    "import math\n",
    "angulo = int(input('Digite o angulo:'))\n",
    "cosseno = math.cos(angulo);\n",
    "seno = math.sin(angulo);\n",
    "tangente = math.tan(angulo);\n",
    "print('Cosseno é {:.3f}, Seno é {:.3f}, Tangente é {:.3f}'.format(cosseno, seno, tangente));"
   ]
  },
  {
   "cell_type": "markdown",
   "id": "799bb1e8",
   "metadata": {},
   "source": [
    "### Um professor quer sortear um dos seus quatros alunos para apagar o quadro. faça um programa que ajude ele, lendo o nome deles e escrevendo o nome do escolhido  "
   ]
  },
  {
   "cell_type": "code",
   "execution_count": 5,
   "id": "854d0192",
   "metadata": {},
   "outputs": [
    {
     "name": "stdout",
     "output_type": "stream",
     "text": [
      "Aluno 1:Savio \n",
      "Aluno 2:Matos\n",
      "Aluno 3:Daniel\n",
      "Aluno 4:Joao\n",
      "O aluno sorteado foi:Matos\n"
     ]
    }
   ],
   "source": [
    "import random \n",
    "l1 = input('Aluno 1:');\n",
    "l2 = input('Aluno 2:');\n",
    "l3 = input('Aluno 3:');\n",
    "l4 = input('Aluno 4:');\n",
    "lista = [l1, l2, l3, l4];\n",
    "sorteio = random.choice(lista);\n",
    "print('O aluno sorteado foi:{}'.format(sorteio));"
   ]
  },
  {
   "cell_type": "markdown",
   "id": "136c0992",
   "metadata": {},
   "source": [
    "### O professor do desafio anterior quer sortear a ordem de apresentação de trabalhos dos alunos. faça um programa que leia o noe dos quatros alunos e mostre a ordem sorteada."
   ]
  },
  {
   "cell_type": "code",
   "execution_count": 5,
   "id": "9e0c4db0",
   "metadata": {},
   "outputs": [
    {
     "name": "stdout",
     "output_type": "stream",
     "text": [
      "Aluno 1:savio\n",
      "Aluno 2:daniel\n",
      "Aluno 3:matos\n",
      "Aluno 4:marinho\n",
      "A ordem de sorteio foi['daniel', 'savio', 'marinho', 'matos']\n"
     ]
    }
   ],
   "source": [
    "import random \n",
    "l1 = input('Aluno 1:');\n",
    "l2 = input('Aluno 2:');\n",
    "l3 = input('Aluno 3:');\n",
    "l4 = input('Aluno 4:');\n",
    "\n",
    "lista = [l1, l2, l3, l4];\n",
    "random.shuffle(lista);\n",
    "print('A ordem de sorteio foi{}'.format(lista));\n"
   ]
  },
  {
   "cell_type": "markdown",
   "id": "9e52bada",
   "metadata": {},
   "source": [
    "### Faça um programa que abra e reproduza o áudio de um arquivo MP3."
   ]
  },
  {
   "cell_type": "code",
   "execution_count": 3,
   "id": "3a727590",
   "metadata": {},
   "outputs": [
    {
     "ename": "ModuleNotFoundError",
     "evalue": "No module named 'pygame'",
     "output_type": "error",
     "traceback": [
      "\u001b[1;31m---------------------------------------------------------------------------\u001b[0m",
      "\u001b[1;31mModuleNotFoundError\u001b[0m                       Traceback (most recent call last)",
      "Cell \u001b[1;32mIn[3], line 1\u001b[0m\n\u001b[1;32m----> 1\u001b[0m \u001b[38;5;28;01mimport\u001b[39;00m \u001b[38;5;21;01mpygame\u001b[39;00m\n\u001b[0;32m      3\u001b[0m pygame\u001b[38;5;241m.\u001b[39minit()\n\u001b[0;32m      4\u001b[0m pygame\u001b[38;5;241m.\u001b[39mmixer\u001b[38;5;241m.\u001b[39mmusic\u001b[38;5;241m.\u001b[39mload(\u001b[38;5;124m'\u001b[39m\u001b[38;5;124mex021.mp3\u001b[39m\u001b[38;5;124m'\u001b[39m)\n",
      "\u001b[1;31mModuleNotFoundError\u001b[0m: No module named 'pygame'"
     ]
    }
   ],
   "source": [
    "import pygame\n",
    "\n",
    "pygame.init()\n",
    "pygame.mixer.music.load('ex021.mp3')\n",
    "pygame.mixer.music.play()\n",
    "pygame.event.wait()"
   ]
  },
  {
   "cell_type": "markdown",
   "id": "e132c4b9",
   "metadata": {},
   "source": [
    "### MANIPULAÇÃO DE TEXTO\n",
    "\n",
    "-~-~-~-~-~-~-~-~- Manipulando Textos ~-~-~-~-~-~-~-~-\n",
    "\n",
    "  frase = 'ESTOU APRENDENDO A PROGRAMAR EM PYHTON'\n",
    "\n",
    "  frase[9] ------> Pega os caracteres das posições indicadas ------------------- letra E\n",
    "  frase[9:13] -> Pega os caracteres das posições indicadas ------------------- ENDE\n",
    "  frase[9:18:2]--> Pega os caracteres das posições indicadas pulando 2 - EDNOA\n",
    "  len() -------------> Mostra quantas letras tem a frase -------------------------------- len(frase) = 38 letras\n",
    "  count() ---------> Conta quantas vezes aparece a letra escolhida ----------- frase.count('s')\n",
    "  find() ------------> Procura os caracteres escolhido ---------------------------------- frase.find('aprendendo')\n",
    "  replace() ------> Troca uma palavra por outra na frase --------------------------- frase.replace('python','JavaScript')\n",
    "  upper() ---------> Colocar todas as outras letras em maiúsculo -------------- frase.upper()\n",
    "  lower() ---------> Colocar todas as outras letras em minusculo -------------- frase.lower()\n",
    "  capilalize() ---> Coloca todas a frase em minusculo menos a 1 letra --- frase.capitalize()\n",
    "  title() ------------> Todas as palavras começa com letra maiúscula --------- frase.title()\n",
    "  strip() -----------> Tira o espaço do começo e no fim da frase ----------------- frase.strip()  frase.lstrip()  frase.rstrip()\n",
    "  split() -----------> Vai ocorrer uma divisão entre os espaços da frase ----- frase.split()\n",
    "  .join() -----------> Juntar uma coisa com a outra -------------------------------------- '-'.join.frase Estou-aprendendo-a-programar-em-python."
   ]
  },
  {
   "cell_type": "markdown",
   "id": "a76094a8",
   "metadata": {},
   "source": [
    "### Crie um programa que leia um nome completo e mostre 1-o nome com todas as letras minusculas 2-o nome com todas as letras maiúsculas 3-quantas letras ao total sem considerar os espaçõs 4-quantas letras tem no primeiro nome."
   ]
  },
  {
   "cell_type": "code",
   "execution_count": null,
   "id": "9bb2792c",
   "metadata": {},
   "outputs": [],
   "source": [
    "frase = input('Escreva um nome:').strip();\n",
    "minus = frase.lower();\n",
    "maius = frase.upper();\n",
    "letras = len(frase) - frase.count(' ');\n",
    "quantidade = frase.split();\n",
    "print('{}\\n{}\\n{}'.format(minus, maius, letras));\n",
    "print('O primeiro nome é {} e tem {} letras'.format(quantidade[0], len(quantidade[0])))"
   ]
  },
  {
   "cell_type": "code",
   "execution_count": null,
   "id": "1f388971",
   "metadata": {},
   "outputs": [],
   "source": [
    "numb = int(input('Digite um Número:'));\n",
    "u = numb // 1 % 10\n",
    "d = numb // 10 % 10\n",
    "c = numb // 100 % 10\n",
    "m = numb // 1000 % 10\n",
    "print('Unidade: {}'.format(u))\n",
    "print('dezena: {}'.format(d))\n",
    "print('centena: {}'.format(c))\n",
    "print('milhar: {}'.format(m))"
   ]
  },
  {
   "cell_type": "markdown",
   "id": "ddeff006",
   "metadata": {},
   "source": [
    "### Crie um programa que leia o nome de um cidade e diga se ela começou ou não com o nome \"Santo\"."
   ]
  },
  {
   "cell_type": "code",
   "execution_count": 1,
   "id": "50112aeb",
   "metadata": {},
   "outputs": [
    {
     "name": "stdout",
     "output_type": "stream",
     "text": [
      "Escreva o nome da cidade:Santo\n",
      "True\n"
     ]
    }
   ],
   "source": [
    "city = str(input('Escreva o nome da cidade:')).strip();\n",
    "print(city[:5].upper() == 'SANTO');"
   ]
  },
  {
   "cell_type": "markdown",
   "id": "f049e394",
   "metadata": {},
   "source": [
    "### Programa que leia o nome de uma pessoa e diga se ela tem Silva no nome."
   ]
  },
  {
   "cell_type": "code",
   "execution_count": 4,
   "id": "f6e63d96",
   "metadata": {},
   "outputs": [
    {
     "name": "stdout",
     "output_type": "stream",
     "text": [
      "Qual o seu nome? Savio Silvaniodo\n",
      "Seu nome possui \"SILVA\"? False\n"
     ]
    }
   ],
   "source": [
    "nome = str(input('Qual o seu nome? ')).strip()\n",
    "print('Seu nome possui \"SILVA\"? {}'.format('SILVA' in nome.upper().split()))"
   ]
  },
  {
   "cell_type": "markdown",
   "id": "c2743c0e",
   "metadata": {},
   "source": [
    "### Condições aula 6.\n"
   ]
  },
  {
   "cell_type": "markdown",
   "id": "801ec67a",
   "metadata": {},
   "source": [
    "### Escreva um programa que faça o computador pensar em um número inteiro entre 0 e 5 e peça para o usuario tentar descobrir qual foi o numero escolhido pelo computador. "
   ]
  },
  {
   "cell_type": "code",
   "execution_count": 10,
   "id": "379c3477",
   "metadata": {},
   "outputs": [
    {
     "name": "stdout",
     "output_type": "stream",
     "text": [
      "Em que número eu pensei?2\n",
      "Vôce errou, o número que pensei foi 0, e não o 2\n"
     ]
    }
   ],
   "source": [
    "import random\n",
    "numb = random.randint(0, 5);\n",
    "pessoa = int(input('Em que número eu pensei?'))\n",
    "if pessoa == numb:\n",
    "    print('Vôce acertou.')\n",
    "else:\n",
    "    print('Vôce errou, o número que pensei foi {}, e não o {}'.format(numb, pessoa));"
   ]
  },
  {
   "cell_type": "markdown",
   "id": "010a6837",
   "metadata": {},
   "source": [
    "### Escreva um programa que leia a velocidade de um carro. Se ele ultrapassar 80km/h, mostre uma mensagem dizendo que ele multado. A multa vai custar Reais 7 por cada km acima do limite."
   ]
  },
  {
   "cell_type": "code",
   "execution_count": 18,
   "id": "0689c8c2",
   "metadata": {},
   "outputs": [
    {
     "name": "stdout",
     "output_type": "stream",
     "text": [
      "Qual a velocidade?103\n",
      "Está acima da velocidade:\n",
      "Portanto recebera uma multa: 161.0\n"
     ]
    }
   ],
   "source": [
    "velocidade = float(input('Qual a velocidade?'));\n",
    "if velocidade > 80:\n",
    "    print('Está acima da velocidade:');\n",
    "    val = (velocidade-80)*7;\n",
    "    print('Portanto recebera uma multa: {}'.format(val));\n",
    "else:\n",
    "    print('Está dentro da velocidade regular:');"
   ]
  },
  {
   "cell_type": "markdown",
   "id": "dd0f90d7",
   "metadata": {},
   "source": [
    "### Crie um programa que leia um número inteiro e mostre na tela se ele é par ou impar."
   ]
  },
  {
   "cell_type": "code",
   "execution_count": 29,
   "id": "f31978e3",
   "metadata": {},
   "outputs": [
    {
     "name": "stdout",
     "output_type": "stream",
     "text": [
      "Digite um numero:90\n",
      "O numero 90, é impar.\n"
     ]
    }
   ],
   "source": [
    "numb = int(input('Digite um numero:'));\n",
    "impar = numb % 2\n",
    "if impar == 0:\n",
    "    print(\"O numero {}, é impar.\".format(numb));\n",
    "else:\n",
    "    print('O número {}, náo é impar.'.format(numb));"
   ]
  },
  {
   "cell_type": "markdown",
   "id": "b206c364",
   "metadata": {},
   "source": [
    "### Programa que pergunte a distancia de uma viagem em km. Calcule o preço da passagem, cobrando 0,50 por km para viagem de até 200km e 0,45 para viagens mais longas."
   ]
  },
  {
   "cell_type": "markdown",
   "id": "98cfbf03",
   "metadata": {},
   "source": [
    "# distancia = float(input('Qual a distancia Percorrida?'));\n"
   ]
  },
  {
   "cell_type": "code",
   "execution_count": null,
   "id": "947c8366",
   "metadata": {},
   "outputs": [],
   "source": [
    "distancia = float(input('Qual a distancia percorrida:'))\n",
    "modelo = input('Qual o modelo do carro:');\n",
    "#modelo 1.0\n",
    "preço = distancia * 0.5;\n",
    "preço = distancia * 0.45;\n",
    "#modelo 2.0\n",
    "preço1 = distancia * 0.7;\n",
    "preço1 = distancia * 0.6;\n",
    "#modelo 3.0\n",
    "preço2 = distancia * 1;\n",
    "preço2 = distancia * 0.8;\n",
    "if modelo == fiat:\n",
    "    if distancia <= 200:\n",
    "        print('Você ira pagar um valor de {}'.format(preço))\n",
    "    else:    \n",
    "        print('Vôce ira pagar {}'.format(preço));\n",
    "if modelo == nissan:\n",
    "    if distancia <= 200:\n",
    "        print('Você ira pagar um valor de {}'.format(preço1))\n",
    "    else:    \n",
    "        print('Vôce ira pagar {}'.format(preço1))\n",
    "if modelo == honda:\n",
    "    if distancia <= 200:\n",
    "        print('Você ira pagar um valor de {}'.format(preço2))\n",
    "    else:    \n",
    "        print('Vôce ira pagar {}'.format(preço2))\n",
    "    \n",
    "\n"
   ]
  },
  {
   "cell_type": "markdown",
   "id": "69e0a0db",
   "metadata": {},
   "source": [
    "### Faça um programa que leia um ano qualquer e diga se ele é bissexto."
   ]
  },
  {
   "cell_type": "code",
   "execution_count": 10,
   "id": "f6c23c2a",
   "metadata": {},
   "outputs": [
    {
     "name": "stdout",
     "output_type": "stream",
     "text": [
      "Digite um ano:4000\n",
      "O ano 4000 é Bissexto\n"
     ]
    }
   ],
   "source": [
    "ano = int(input('Digite um ano:'));\n",
    "bissexto = ano % 4;\n",
    "if bissexto == 0:\n",
    "    print('O ano {} é Bissexto'.format(ano))\n",
    "else:\n",
    "    print('O ano {} não é bissexto'.format(ano))\n"
   ]
  },
  {
   "cell_type": "markdown",
   "id": "5f9eecd7",
   "metadata": {},
   "source": [
    "### Faça um programa que leia três númmeros e mostre qual é o maior e qual é o menor."
   ]
  },
  {
   "cell_type": "code",
   "execution_count": 13,
   "id": "8d1b9466",
   "metadata": {},
   "outputs": [
    {
     "name": "stdout",
     "output_type": "stream",
     "text": [
      "Insira um valor:3\n",
      "Insira um valor:5\n",
      "Insira um valor:8\n",
      "O menor valor foi 3\n",
      "O maior valor foi 8\n"
     ]
    }
   ],
   "source": [
    "a = int(input('Insira um valor:'))\n",
    "b = int(input('Insira um valor:'))\n",
    "c = int(input('Insira um valor:'))\n",
    "\n",
    "#Menor valor.\n",
    "menor = a\n",
    "if b < a and b < c:\n",
    "    menor = b\n",
    "if c < a and c < b:\n",
    "    menor = c\n",
    "    \n",
    "#Maior valor.\n",
    "maior = a\n",
    "if b > a and b > c:\n",
    "    maior = b\n",
    "if c > a and c > b:\n",
    "    maior = c\n",
    "print('O menor valor foi {}'.format(menor))\n",
    "print('O maior valor foi {}'.format(maior))"
   ]
  },
  {
   "cell_type": "markdown",
   "id": "278bb6a3",
   "metadata": {},
   "source": [
    "### Escreva um programa que pergunte o salario de um funcionario e calcule o valor do seu aumento. Para salário superior a 1.250,00 calcule um aumento de 10%. para os inferiores ou iguais, o aumneto é de 15%"
   ]
  },
  {
   "cell_type": "code",
   "execution_count": 18,
   "id": "39ac536b",
   "metadata": {},
   "outputs": [
    {
     "name": "stdout",
     "output_type": "stream",
     "text": [
      "Qual o salário:1300\n",
      "O seu salario atual é 1300.0, e aumentou para 1495.0\n"
     ]
    }
   ],
   "source": [
    "salario = float(input('Qual o salário:'));\n",
    "valor1 = (salario * 0.1) + salario\n",
    "valor2 = (salario * 0.15) + salario\n",
    "if salario < 1250:\n",
    "    print('O seu salario atual é {}, e aumentou para {}'.format(salario, valor1));\n",
    "else:\n",
    "    print('O seu salario atual é {}, e aumentou para {}'.format(salario, valor2))"
   ]
  },
  {
   "cell_type": "markdown",
   "id": "8f82610b",
   "metadata": {},
   "source": [
    "### Desenvolva um programa que leia o comprimento de três retas e diga ao usuário se elas podem ou não formar um triangulo"
   ]
  },
  {
   "cell_type": "code",
   "execution_count": 21,
   "id": "0fe1e9e4",
   "metadata": {},
   "outputs": [
    {
     "name": "stdout",
     "output_type": "stream",
     "text": [
      "Insira um valor:3\n",
      "Insira um valor:7\n",
      "Insira um valor:5\n",
      "O valor fornecido pode formar um triangulo:\n"
     ]
    }
   ],
   "source": [
    "a = float(input('Insira um valor:'))\n",
    "b = float(input('Insira um valor:'))\n",
    "c = float(input('Insira um valor:'))\n",
    "\n",
    "valor1 = a + b\n",
    "\n",
    "if valor1 <= c:\n",
    "    print('O valor a cima não pode formar um triangulo:')\n",
    "else:\n",
    "    print('O valor fornecido pode formar um triangulo:')"
   ]
  },
  {
   "cell_type": "markdown",
   "id": "b9109136",
   "metadata": {},
   "source": [
    "### Escreva um programa para aprovar o empréstimo bancario para a compra de uma casa. O programa vai perguntar o valor da casa, o salario do comprador e em quantos anos ele vai pagar. calcule o valor da prestação mensal, sabendo que ela não pode exceder 30% do salário ou então o emprestimo será negado."
   ]
  },
  {
   "cell_type": "code",
   "execution_count": 34,
   "id": "04d33776",
   "metadata": {},
   "outputs": [
    {
     "name": "stdout",
     "output_type": "stream",
     "text": [
      "Qual o valor da casa:100000\n",
      "Qual o salario:3400\n",
      "Em quantos anos irá pagar:6\n",
      "O salario é 3400.0, a casa vale 400000.0\n",
      "A prestação sera 1388.89\n",
      "Negado\n"
     ]
    }
   ],
   "source": [
    "casa = float(input('Qual o valor da casa:'))\n",
    "salario = float(input('Qual o salario:'))\n",
    "anos_pagar = int(input('Em quantos anos irá pagar:'))\n",
    "\n",
    "prestação = casa / (anos_pagar * 12);\n",
    "minimo = salario * 30/100;\n",
    "print('O salario é {}, a casa vale {}'.format(salario, valor))\n",
    "print('A prestação sera {:.2f}'.format(prestação))\n",
    "if prestação <= minimo:\n",
    "    print('O emprestimo foi concedido')\n",
    "else:\n",
    "    print('Negado')"
   ]
  },
  {
   "cell_type": "markdown",
   "id": "c29b7a24",
   "metadata": {},
   "source": [
    "### Escreva um programa que leia dois números inteiros e compare-os, mostrando na tela uma mensagem: O primeiro valor é maior. O segundo valor é maior. Não existe valor maior, os dois são iguais"
   ]
  },
  {
   "cell_type": "code",
   "execution_count": 39,
   "id": "59e681ff",
   "metadata": {},
   "outputs": [
    {
     "name": "stdout",
     "output_type": "stream",
     "text": [
      "Primeiro número:3\n",
      "Segundo número:3\n",
      "Os dois são iguais\n"
     ]
    }
   ],
   "source": [
    "numb1 = int(input('Primeiro número:'))\n",
    "numb2 = int(input('Segundo número:'))\n",
    "\n",
    "if numb1 > numb2:\n",
    "    print('Caso 1: O valor {}, é maior que {}'.format(numb1, numb2))\n",
    "elif numb1 < numb2:\n",
    "    print('Caso 2: O valor {}, é maior que {}'.format(numb2, numb1))\n",
    "else:\n",
    "    print('caso 3: Os dois são iguais')"
   ]
  },
  {
   "cell_type": "markdown",
   "id": "32e071b6",
   "metadata": {},
   "source": [
    "### Escreva um programa que leia um numero inteiro qualquer e peça para o usuario escolher qual sera a base de conservação: 1para binario. 2 para octal. 3 para hexadecimal."
   ]
  },
  {
   "cell_type": "code",
   "execution_count": 5,
   "id": "28dba749",
   "metadata": {},
   "outputs": [
    {
     "name": "stdout",
     "output_type": "stream",
     "text": [
      "Digite um numerio:40\n",
      "Escolha entre 1, 2 e 3:1\n",
      "Vôce escolheu a primeira opção\n",
      "O número em Bi 0b101000\n"
     ]
    }
   ],
   "source": [
    "numb = int(input('Digite um numerio:'))\n",
    "esc= int(input('Escolha entre 1, 2 e 3:'))\n",
    "\n",
    "if esc == 1:\n",
    "    print(\"Vôce escolheu a primeira opção\")\n",
    "    print('O número em Bi {}'.format(bin(numb)))\n",
    "elif esc == 2:\n",
    "    print(\"Vôce escolheu a segunda opção\")\n",
    "    print('O número em Oc {}'.format(oct(numb)))\n",
    "elif esc == 3:\n",
    "    print(\"Vôce escolheu a terceira opção\")\n",
    "    print('O número em Hex {}'.format(hex(numb)))\n",
    "else:\n",
    "    print('Escolha errada')"
   ]
  },
  {
   "cell_type": "markdown",
   "id": "c66ff197",
   "metadata": {},
   "source": [
    "### Programa que leia o ano de nascimento de um jovem e informe, de acordo com sua idade. se ele ainda vai se alistar ao serviço militar, se é a hora de se alistar ou se já passou do tempo do alistamento. Seu programa também deverá mostrar o tempo que falta ou que passou do prazo. "
   ]
  },
  {
   "cell_type": "code",
   "execution_count": 18,
   "id": "3a772ebd",
   "metadata": {},
   "outputs": [
    {
     "name": "stdout",
     "output_type": "stream",
     "text": [
      "Qual seu sexo?\n",
      "1 para feminino\n",
      "2 para masculino\n",
      "\n",
      "Insira: 2003\n",
      "Digite seu ano de nascimento: 2003\n",
      "\n",
      "Quem nasceu em 2003 completa 20 anos em 2023.\n",
      "O período de alistamento foi há 2 anos no ano de 2021.\n"
     ]
    }
   ],
   "source": [
    "from datetime import date\n",
    "print('Qual seu sexo?'\n",
    "      '\\n1 para feminino'\n",
    "      '\\n2 para masculino')\n",
    "s = int(input('\\nInsira: '))\n",
    "if s == 1:\n",
    "    print('Pessoas do sexo feminino não precisam se alistar obrigatoriamente.')\n",
    "else:\n",
    "    ano = int(input('Digite seu ano de nascimento: '))\n",
    "    idade = (date.today().year) - ano\n",
    "    print(f'\\nQuem nasceu em {ano} completa {idade} anos em 2023.')\n",
    "    if idade < 18:\n",
    "        if 18 - idade == 1:\n",
    "            print(f'Falta {18 - idade} ano para o alistamento, '\n",
    "            f'que deverá ser feito em {(date.today().year) + (18 - idade)}.')\n",
    "        elif (18 - idade) > 1:\n",
    "            print(f'Faltam {18 - idade} anos para o alistamento, '\n",
    "                  f'que deverá ser feito em {(date.today().year) + (18 - idade)}.')\n",
    "    elif idade == 18:\n",
    "        print(f'O alistamento deverá ser feito neste ano.')\n",
    "    else:\n",
    "        if idade - 18 > 1:\n",
    "            print(f'O período de alistamento foi há {idade - 18} anos no ano de {(date.today().year) - (idade - 18)}.')\n",
    "        elif idade == 1:\n",
    "            print(f'O período de alistamento foi há {idade - 18} ano no ano de {(date.today().year) - (idade - 18)}.')"
   ]
  },
  {
   "cell_type": "markdown",
   "id": "6eb07f5d",
   "metadata": {},
   "source": [
    "### Crie um programa que leia duas notas de um aluno e calcule sua média, mostrando uma mensagem no final, de acordo com a média atingida: Média abaixo de 5 = reprovado; Média entre 5 e 6,9 = recuperação; Média 7 ou superior = aprovado"
   ]
  },
  {
   "cell_type": "code",
   "execution_count": 11,
   "id": "ff2c0357",
   "metadata": {},
   "outputs": [
    {
     "name": "stdout",
     "output_type": "stream",
     "text": [
      "Insira a primeira nota6\n",
      "Insira a seguda nota6\n",
      "Insira a terceira nota6\n",
      "Vôce tem média 6.0, e ficou de recuperação\n"
     ]
    }
   ],
   "source": [
    "nota1 = float(input('Insira a primeira nota'))\n",
    "nota2 = float(input('Insira a seguda nota'))\n",
    "nota3 = float(input('Insira a terceira nota'))\n",
    "\n",
    "media = (nota1+nota2+nota3) / 3\n",
    "\n",
    "if media < 5:\n",
    "    print('Vôce tem média {}, e esta reprovado'.format(media))\n",
    "elif  7 > media > 5:\n",
    "    print('Vôce tem média {}, e ficou de recuperação'.format(media))\n",
    "elif media > 6.9:\n",
    "    print('Vôce tem média {}, e esta aprovado'.format(media))"
   ]
  },
  {
   "cell_type": "markdown",
   "id": "41287329",
   "metadata": {},
   "source": [
    "### A Confederação nacional de natação precisa de um programa que leia o ano de nascimento de um atleta e mostre sua categoria, de acordo com a idade: 9 anos = mirim; 14 anos = infantil; 19 anos = junior; 25 anos = senior; mais que 29 = master."
   ]
  },
  {
   "cell_type": "code",
   "execution_count": 11,
   "id": "cc961cd6",
   "metadata": {},
   "outputs": [
    {
     "name": "stdout",
     "output_type": "stream",
     "text": [
      "Em que ano vôce nasceu?1996\n",
      "O participante possui 27 anos.\n",
      "O participante tem 27 anos e pertence a categoria Master\n"
     ]
    }
   ],
   "source": [
    "from datetime import date\n",
    "atual = date.today().year\n",
    "nasc = int(input('Em que ano vôce nasceu?'))\n",
    "idade =  atual - nasc\n",
    "print('O participante possui {} anos.'.format(idade))\n",
    "if idade <= 9:\n",
    "    print('O participante tem {} anos e pertence a categoria Mirim'.format(idade))\n",
    "elif idade <= 14:\n",
    "    print('O participante tem {} anos e pertence a categoria Infantil'.format(idade))\n",
    "elif idade <= 19:\n",
    "    print('O participante tem {} anos e pertence a categoria Junior'.format(idade))\n",
    "elif idade <= 25:\n",
    "    print('O participante tem {} anos e pertence a categoria Senior'.format(idade))\n",
    "else:\n",
    "    print('O participante tem {} anos e pertence a categoria Master'.format(idade))"
   ]
  },
  {
   "cell_type": "markdown",
   "id": "c2356bf1",
   "metadata": {},
   "source": [
    "### Desenvolva um programa que leia o comprimento de três retas e diga ao usuário se elas podem ou não formar um triangulo. e diga qual o eu tipo."
   ]
  },
  {
   "cell_type": "code",
   "execution_count": 16,
   "id": "af821d25",
   "metadata": {},
   "outputs": [
    {
     "name": "stdout",
     "output_type": "stream",
     "text": [
      "Primeiro segmento: 5\n",
      "Segundo segmento: 6\n",
      "Terceiro segmento:9\n",
      "Os segmentos acima podem formar um triângulo.\n",
      "\n",
      "TRIÂNGULO: ESCALENO\n"
     ]
    }
   ],
   "source": [
    "p1 = int(input('Primeiro segmento: '))\n",
    "p2 = int(input('Segundo segmento: '))\n",
    "p3 = int(input('Terceiro segmento:'))\n",
    "if p1 < p2 + p3 or p2 < p1 + p3 or p3 < p1 + p2:\n",
    "  print('Os segmentos acima podem formar um triângulo.\\n')\n",
    "  if p1 == p2 == p3:\n",
    "    print('TRIANGULO: EQUILÁTERO')\n",
    "  elif p1!= p2!= p3 and p3!= p1!= p2:\n",
    "    print('TRIÂNGULO: ESCALENO')\n",
    "  else:\n",
    "    print('TRIÂNGULO: ISÓSCELES')\n",
    "else:\n",
    "   print('Os segmentos acima não podem formar um triângulo.')\n"
   ]
  },
  {
   "cell_type": "markdown",
   "id": "1e32bc72",
   "metadata": {},
   "source": [
    "### Desenvolva uma logica que leia o peso e altura de uma pessoa, calcule seu IMC e mostre seu status, de acordo com a tabela abaixo: Abaixo de 18.5 = abaixo do peso: Entre 18.5 e 25 = peso ideal: 25 ate 30= Sobrepeso: 30 ate 40= Obesidade: Acima de 40 = Obesidade mórbida"
   ]
  },
  {
   "cell_type": "code",
   "execution_count": 15,
   "id": "7b93f14e",
   "metadata": {},
   "outputs": [
    {
     "name": "stdout",
     "output_type": "stream",
     "text": [
      "Peso:78\n",
      "Altura:1.77\n",
      "O peso foi 24.90, esta no peso ideal\n"
     ]
    }
   ],
   "source": [
    "peso = float(input('Peso:'))\n",
    "altura = float(input('Altura:'))\n",
    "\n",
    "imc = peso / (altura ** 2);\n",
    "if imc <= 18.5:\n",
    "    print('O peso foi {:.2f}, você esta abaixo do peso.'.format(imc))\n",
    "elif 18.5 < imc <= 25:\n",
    "    print('O peso foi {:.2f}, esta no peso ideal'.format(imc))\n",
    "elif 25 < imc <= 30:\n",
    "    print('O peso foi {:.2f}, Sobrepeso'.format(imc))\n",
    "elif 30 < imc <= 40:\n",
    "    print('O peso foi {:.2f}, Obesidade'.format(imc))\n",
    "elif 40 < imc:\n",
    "    print('O peso foi {:.2f}, TU VAI MORRER'.format(imc))"
   ]
  },
  {
   "cell_type": "markdown",
   "id": "a6787cdd",
   "metadata": {},
   "source": [
    "###  Elabore um programa que calcule o valor a ser pago por um produto, considerando o seu preço normal e condição de pagamento:\n",
    "-À vista = 10% de desconto:\n",
    "-À vista no cartão  = 5% de desconto\n",
    "-Em até 2x no cartão = preço normal \n",
    "-3x ou mais no cartão = 20% de juros"
   ]
  },
  {
   "cell_type": "code",
   "execution_count": 12,
   "id": "a2a64a63",
   "metadata": {},
   "outputs": [
    {
     "name": "stdout",
     "output_type": "stream",
     "text": [
      "Preço das compras140000\n",
      "----FORMA DE PAGAMENTO----\n",
      "[1] À vista, dinheiro/cheque\n",
      "[2] À vista no cartão\n",
      "[3] Em até 2x no cartão\n",
      "[4] 3x ou mais no cartão\n",
      "Escolha uma opção4\n",
      "Quantas parcelas:5\n",
      "Sua compra sera parcelado em 5x de 263.91 com juros\n",
      "O valor do produto é 140000.00R$ dividido em tres vezes no cartão valerá 1319.55R$\n"
     ]
    }
   ],
   "source": [
    "preço = float(input('Preço das compras'));\n",
    "print('----FORMA DE PAGAMENTO----');\n",
    "print('[1] À vista, dinheiro/cheque') \n",
    "print('[2] À vista no cartão') \n",
    "print('[3] Em até 2x no cartão') \n",
    "print('[4] 3x ou mais no cartão') \n",
    "opçoes = int(input('Escolha uma opção'))\n",
    "if opçoes ==1:\n",
    "    total = preço - (preço *10/100);\n",
    "    print(' O valor do produto é {:.2f}R$ com o desconto ficou {:.2f}R$'.format(preço, total))\n",
    "elif opçoes == 2:\n",
    "    total = preço - (preço * 5/100);\n",
    "    print(' O valor do produto é {:.2f}R$ com o desconto ficou {:.2f}R$'.format(preço, total))\n",
    "elif opçoes == 3:\n",
    "    total = preço /2\n",
    "    print('Sua compra sera parcelado em 2 vezes');\n",
    "    print('O valor do produto é {:.2f}R$ dividido em duas vezes no cartão valerá duas vezes de {:.2f}R$'.format(preço, total));\n",
    "elif opçoes == 4:\n",
    "    total==  preço + (preço * 20/100);\n",
    "    totalpar = int(input('Quantas parcelas:'))\n",
    "    parcela = total / totalpar;\n",
    "    print('Sua compra sera parcelado em {}x de {:.2f} com juros'.format(totalpar, parcela))\n",
    "    print('O valor do produto é {:.2f}R$ dividido em tres vezes no cartão valerá {:.2f}R$'.format(preço, total));"
   ]
  },
  {
   "cell_type": "markdown",
   "id": "f0b934c3",
   "metadata": {},
   "source": [
    "### Crie um programa que faça o computador jogar jokenpô com você."
   ]
  },
  {
   "cell_type": "code",
   "execution_count": 1,
   "id": "6aae0bb9",
   "metadata": {},
   "outputs": [
    {
     "ename": "NameError",
     "evalue": "name 'randint' is not defined",
     "output_type": "error",
     "traceback": [
      "\u001b[1;31m---------------------------------------------------------------------------\u001b[0m",
      "\u001b[1;31mNameError\u001b[0m                                 Traceback (most recent call last)",
      "Cell \u001b[1;32mIn[1], line 3\u001b[0m\n\u001b[0;32m      1\u001b[0m \u001b[38;5;28;01mimport\u001b[39;00m \u001b[38;5;21;01mrandom\u001b[39;00m\n\u001b[0;32m      2\u001b[0m itens \u001b[38;5;241m=\u001b[39m (\u001b[38;5;124m'\u001b[39m\u001b[38;5;124mPedra\u001b[39m\u001b[38;5;124m'\u001b[39m, \u001b[38;5;124m'\u001b[39m\u001b[38;5;124mPapel\u001b[39m\u001b[38;5;124m'\u001b[39m, \u001b[38;5;124m'\u001b[39m\u001b[38;5;124mTesoura\u001b[39m\u001b[38;5;124m'\u001b[39m);\n\u001b[1;32m----> 3\u001b[0m computador \u001b[38;5;241m=\u001b[39m randint(\u001b[38;5;241m0\u001b[39m,\u001b[38;5;241m2\u001b[39m);\n\u001b[0;32m      4\u001b[0m \u001b[38;5;28mprint\u001b[39m(\u001b[38;5;124m'\u001b[39m\u001b[38;5;124mSuas escolhas\u001b[39m\u001b[38;5;124m'\u001b[39m)\n\u001b[0;32m      5\u001b[0m \u001b[38;5;28mprint\u001b[39m(\u001b[38;5;124m'''\u001b[39m\n\u001b[0;32m      6\u001b[0m \u001b[38;5;124m[0] Pedra\u001b[39m\n\u001b[0;32m      7\u001b[0m \u001b[38;5;124m[1] Papel\u001b[39m\n\u001b[0;32m      8\u001b[0m \u001b[38;5;124m[2] Tesoura\u001b[39m\n\u001b[0;32m      9\u001b[0m \u001b[38;5;124m'''\u001b[39m)\n",
      "\u001b[1;31mNameError\u001b[0m: name 'randint' is not defined"
     ]
    }
   ],
   "source": [
    "import random\n",
    "itens = ('Pedra', 'Papel', 'Tesoura');\n",
    "computador = randint(0,2);\n",
    "print('Suas escolhas')\n",
    "print('''\n",
    "[0] Pedra\n",
    "[1] Papel\n",
    "[2] Tesoura\n",
    "''')\n",
    "jogador = int(input('Qual a sua jogada'));\n",
    "print('Computador jogou'.format(itens[computador]))\n",
    "print('Jogador jogou'.format(itens[jogador]))"
   ]
  },
  {
   "cell_type": "code",
   "execution_count": 5,
   "id": "aa4a138f",
   "metadata": {},
   "outputs": [
    {
     "name": "stdout",
     "output_type": "stream",
     "text": [
      "10\n",
      "9\n",
      "8\n",
      "7\n",
      "6\n",
      "5\n",
      "4\n",
      "3\n",
      "2\n",
      "1\n",
      "0\n",
      "BOMMMM\n"
     ]
    }
   ],
   "source": [
    "### Programa que mostre na tela uma contagem regressiva para o estouro de fogos de artificio, indo de 10 até 0, com uma paua de 1 segundo entre eles.\n",
    "\n",
    "import time\n",
    "for cont in range(10, -1, -1):\n",
    "    print(cont);\n",
    "    time.sleep(1);\n",
    "print('BOMMMM');"
   ]
  },
  {
   "cell_type": "code",
   "execution_count": 13,
   "id": "2c5fe66b",
   "metadata": {},
   "outputs": [
    {
     "name": "stdout",
     "output_type": "stream",
     "text": [
      "vai de:0\n",
      "até:51\n",
      "de:2\n",
      "0\n",
      "2\n",
      "4\n",
      "6\n",
      "8\n",
      "10\n",
      "12\n",
      "14\n",
      "16\n",
      "18\n",
      "20\n",
      "22\n",
      "24\n",
      "26\n",
      "28\n",
      "30\n",
      "32\n",
      "34\n",
      "36\n",
      "38\n",
      "40\n",
      "42\n",
      "44\n",
      "46\n",
      "48\n",
      "50\n",
      "FIMMM\n"
     ]
    }
   ],
   "source": [
    "### PROGRRAMA QUE MOSTRE NA TELA TODOS OS NUMEROS PARES QUE ESTÃO NO INTERVALO DE 1 A 50.\n",
    "A = int(input('vai de:'))\n",
    "B = int(input('até:'))\n",
    "C = int(input('de:'))\n",
    "for cont in range(A, B, C):\n",
    "    print(cont);\n",
    "print('FIMMM');"
   ]
  },
  {
   "cell_type": "code",
   "execution_count": 18,
   "id": "417fd1ab",
   "metadata": {},
   "outputs": [
    {
     "name": "stdout",
     "output_type": "stream",
     "text": [
      "20667\n"
     ]
    }
   ],
   "source": [
    "### Programa que calcule a some entre tosos os números impares que são múltiplos de três e que se encontram no intervalo de 1 até 500.\n",
    "s=0\n",
    "for c in range (3,501,6):\n",
    "   s += c\n",
    "print (s) "
   ]
  },
  {
   "cell_type": "markdown",
   "id": "88f08e97",
   "metadata": {},
   "source": [
    "# Refaça a questão 9 mostrando a tabuada de um numero que o usuario escolher, só que agora utilizando um laço for."
   ]
  },
  {
   "cell_type": "code",
   "execution_count": 17,
   "id": "0b1635ba",
   "metadata": {},
   "outputs": [
    {
     "name": "stdout",
     "output_type": "stream",
     "text": [
      "Numero1:1\n",
      "Numero2:8\n",
      "Numero3:4\n",
      "4 x  1 = 4\n",
      "4 x  2 = 8\n",
      "4 x  3 = 12\n",
      "4 x  4 = 16\n",
      "4 x  5 = 20\n",
      "4 x  6 = 24\n",
      "4 x  7 = 28\n",
      "FIMM\n"
     ]
    }
   ],
   "source": [
    "a = int(input('Numero1:'))\n",
    "b = int(input('Numero2:'))\n",
    "numb = int(input('Numero3:'))\n",
    "for c in range(a, b):\n",
    "    print('{} x {:2} = {}'.format(numb, c, numb *c));\n",
    "print('FIMM');\n"
   ]
  },
  {
   "cell_type": "markdown",
   "id": "6eaf28ca",
   "metadata": {},
   "source": [
    "# Programa que leia seis numeros e mostre a soma apenas daqueles que forem pares. Se o valor digitado for ímpar, desconsidere-o\n"
   ]
  },
  {
   "cell_type": "code",
   "execution_count": null,
   "id": "b7044f45",
   "metadata": {},
   "outputs": [],
   "source": [
    "s = 0\n",
    "c = 0\n",
    "for c in range(1, 7):\n",
    "    num=int(input('Digite o {} número :'.format(c)))\n",
    "    if num % 2 == 0:\n",
    "        s += num\n",
    "        c+=1\n",
    "print('Você informou {} numeros pares, a soma é {}'.format(s, c))"
   ]
  },
  {
   "cell_type": "markdown",
   "id": "42c31767",
   "metadata": {},
   "source": [
    "# Desenvolva um programa que leia o primeiro termo e a razão de uma PA. No final, mostre os 10 primeiros termos dessa progressão"
   ]
  },
  {
   "cell_type": "code",
   "execution_count": 7,
   "id": "905f1d30",
   "metadata": {},
   "outputs": [
    {
     "name": "stdout",
     "output_type": "stream",
     "text": [
      "Escreva um valor:10\n",
      "Escreva um valor:20\n",
      "Escreva um valor:2\n",
      "10\n",
      "12\n",
      "14\n",
      "16\n",
      "18\n",
      "Acabou\n"
     ]
    }
   ],
   "source": [
    "a = int(input('Escreva um valor:'))\n",
    "d = int(input('Escreva um valor:'))\n",
    "b = int(input('Escreva um valor:'))\n",
    "for c in range( a, d, b):\n",
    "    print('{}'.format(c))\n",
    "print('Acabou')\n",
    "    "
   ]
  },
  {
   "cell_type": "markdown",
   "id": "17a531c5",
   "metadata": {},
   "source": [
    "# Programa que leia um numero inteiro e diga se ele é ou não um numero primo"
   ]
  },
  {
   "cell_type": "code",
   "execution_count": 12,
   "id": "143b3360",
   "metadata": {},
   "outputs": [
    {
     "name": "stdout",
     "output_type": "stream",
     "text": [
      "Digite um número: 5\n",
      "O número 5 foi divisível 2 vezes!\n",
      "O número é primo\n"
     ]
    }
   ],
   "source": [
    "num = int(input(\"Digite um número: \"))\n",
    "contador = 0\n",
    "\n",
    "for i in range(1, num + 1):\n",
    "    if num % i == 0:\n",
    "        contador += 1\n",
    "\n",
    "print(\"O número {} foi divisível {} vezes!\".format(num, contador))\n",
    "\n",
    "if contador == 2:\n",
    "    print(\"O número é primo\")\n",
    "else:\n",
    "    print(\"O número não é primo\")"
   ]
  },
  {
   "cell_type": "markdown",
   "id": "db163b8e",
   "metadata": {},
   "source": [
    "# Programa que leia o sexo de uma pessoa, mas só aceita os valores 'M' ou 'F'."
   ]
  },
  {
   "cell_type": "code",
   "execution_count": 6,
   "id": "5d5ac769",
   "metadata": {},
   "outputs": [
    {
     "name": "stdout",
     "output_type": "stream",
     "text": [
      "Informe o sexo: [M/F]:r\n",
      "Sexo invalido, reescreva o sexor\n",
      "Sexo invalido, reescreva o sexor\n",
      "Sexo invalido, reescreva o sexor\n",
      "Sexo invalido, reescreva o sexof\n",
      "sexo F valido.\n"
     ]
    }
   ],
   "source": [
    "sexo = str(input('Informe o sexo: [M/F]:')).strip().upper()[0]\n",
    "while sexo not in 'MF':\n",
    "    sexo = str(input('Sexo invalido, reescreva o sexo')).strip().upper()[0]\n",
    "print('sexo {} valido.'.format(sexo))"
   ]
  },
  {
   "cell_type": "markdown",
   "id": "eeb78f1f",
   "metadata": {},
   "source": [
    "# jogo da adivinha  onde o pc vai penar em um numero entre 0 e 10. so que agora o jogador vai tentar adivinhar ate acertar "
   ]
  },
  {
   "cell_type": "code",
   "execution_count": 1,
   "id": "a4498638",
   "metadata": {},
   "outputs": [
    {
     "name": "stdout",
     "output_type": "stream",
     "text": [
      "Em que numero eu pensei?4\n",
      "Em que numero eu pensei?3\n",
      "Em que numero eu pensei?2\n",
      "Em que numero eu pensei?1\n",
      "Parabens!!\n"
     ]
    }
   ],
   "source": [
    "from random import randint\n",
    "computador = randint(1,5)\n",
    "acertou = False\n",
    "while not acertou:\n",
    "    jogador = int(input('Em que numero eu pensei?'))\n",
    "    if jogador == computador:\n",
    "        acertou = True\n",
    "print('Parabens!!')"
   ]
  },
  {
   "cell_type": "markdown",
   "id": "117eb8da",
   "metadata": {},
   "source": [
    "# crie um programa que leia dois valores e mostre um menu como o ao lado na tela: seu programa deverá realizar a operação solicitada em cada caso.\n",
    "[1] soma\n",
    "[2] multiplicar\n",
    "[3] maior\n",
    "[4] novos números\n",
    "[5] sair do programa"
   ]
  },
  {
   "cell_type": "code",
   "execution_count": null,
   "id": "93ae8b57",
   "metadata": {},
   "outputs": [],
   "source": [
    "valor1 = int(input('Digite um valor:'))\n",
    "valor2 = int(input('Digite outro valor:'))\n",
    "opção = 0\n",
    "while opção != 5:\n",
    "    print('''\n",
    "    [1] somar\n",
    "    [2] multiplicar\n",
    "    [3] maior\n",
    "    [4] novos numeros\n",
    "    [5] sair do programa\n",
    "    ''')\n",
    "    opção = int(input(\"qual opção vc escolhe\"))\n",
    "    if opção == 1:\n",
    "        a = valor1 + valor2\n",
    "        print('O valor entre {} e {}, será {}'.format(valor1, valor2, a))\n",
    "    elif opção ==2:\n",
    "        b = valor1 * valor2\n",
    "        print('O valor entre {} e {}, será {}'.format(valor1, valor2, b))\n",
    "    elif opção ==3:\n",
    "        if valor1>valor2:\n",
    "            maior = valor1\n",
    "        else:\n",
    "            maior = valor2\n",
    "        print('Entre {}, e {} o maior é {}'.format(valor1, valor2, maior))\n",
    "\n",
    "    elif opção ==4:\n",
    "        print('Informe os valores novamente')\n",
    "        valor1 = int(input('Digite um valor:'))\n",
    "        valor2 = int(input('Digite outro valor:'))\n",
    "    elif opção ==5:\n",
    "        print('Finalizando')\n",
    "print('Fim do programa')"
   ]
  },
  {
   "cell_type": "markdown",
   "id": "b9fea095",
   "metadata": {},
   "source": [
    "# faça um programa que leia um número qualquer e mostre o seu fatorial."
   ]
  },
  {
   "cell_type": "code",
   "execution_count": 5,
   "id": "1cb1f5e0",
   "metadata": {},
   "outputs": [
    {
     "name": "stdout",
     "output_type": "stream",
     "text": [
      "Qual o Valor?5\n",
      "O resultado será 120\n"
     ]
    }
   ],
   "source": [
    "valor = int(input('Qual o Valor?'))\n",
    "resultado = 1\n",
    "cont = 1\n",
    "while cont <= valor:\n",
    "    resultado = resultado * cont\n",
    "    cont = cont+1\n",
    "print('O resultado será {}'.format(resultado))\n",
    "    "
   ]
  },
  {
   "cell_type": "markdown",
   "id": "a1861a93",
   "metadata": {},
   "source": [
    "# Varios Números com flag"
   ]
  },
  {
   "cell_type": "code",
   "execution_count": 9,
   "id": "292d0e73",
   "metadata": {},
   "outputs": [
    {
     "name": "stdout",
     "output_type": "stream",
     "text": [
      "Digite um número5\n",
      "Digite um número5\n",
      "Digite um número5\n",
      "Digite um número999\n",
      "o valor de s é 15\n"
     ]
    }
   ],
   "source": [
    "n=0\n",
    "s=0\n",
    "while True:\n",
    "    n = int(input('Digite um número'))\n",
    "    if n == 999:\n",
    "        break \n",
    "    s +=n\n",
    "print('o valor de s é {}'.format(s))"
   ]
  },
  {
   "cell_type": "markdown",
   "id": "15450d66",
   "metadata": {},
   "source": [
    "# Tabuada v3.0"
   ]
  },
  {
   "cell_type": "code",
   "execution_count": null,
   "id": "467df65a",
   "metadata": {},
   "outputs": [],
   "source": [
    "valor = int(input('Entre com um valor '))\n",
    "aux = 0 \n",
    "print('A tabuada do {}'.format(valor))\n",
    "while aux <=10: \n",
    "    resultado = aux*valor\n",
    "    print('{} X {} = {}'.format(aux, valor, resultado))\n",
    "    aux = aux +1\n",
    "    if aux == 999:\n",
    "        break\n",
    "        print('Você saiu')\n"
   ]
  },
  {
   "cell_type": "markdown",
   "id": "ad1bc7a7",
   "metadata": {},
   "source": [
    "# Jogo do Par ou Ímpar"
   ]
  },
  {
   "cell_type": "code",
   "execution_count": 1,
   "id": "3c10fafc",
   "metadata": {},
   "outputs": [
    {
     "name": "stdout",
     "output_type": "stream",
     "text": [
      "IMPA OU PAR?par\n",
      "Qual  número você escolhe?8\n",
      "Você escolheu o número 8 e o computador escolheu o número 8, logo o valor será 16\n",
      "Parabens o número 16 é PAR, logo você ganhou\n",
      "OBRIGADO POR JOGAR\n"
     ]
    }
   ],
   "source": [
    "import random\n",
    "\n",
    "escolha = str(input('IMPA OU PAR?'))\n",
    "numero = int(input('Qual  número você escolhe?'))\n",
    "computador = random.randint(1, 10)\n",
    "resultado = 0\n",
    "impa_par = 0\n",
    "while True:\n",
    "    resultado = numero + computador\n",
    "    print('Você escolheu o número {} e o computador escolheu o número {}, logo o valor será {}'.format(numero, computador, resultado))\n",
    "    impa_par = resultado % 2\n",
    "    if impa_par == 1:\n",
    "        if escolha == 'impa':\n",
    "            print('Parabens o número {} é IMPAR, logo você ganhou'.format(resultado))\n",
    "            break\n",
    "        elif escolha == 'par':\n",
    "            print('O número {} é PAR, o pc ganhou'.format(resultado))\n",
    "            break\n",
    "    elif impa_par == 0:\n",
    "        if escolha == 'impa':\n",
    "            print('O número {} é IMPA, o pc ganhou'.format(resultado))\n",
    "            break\n",
    "        elif escolha == 'par':\n",
    "            print('Parabens o número {} é PAR, logo você ganhou'.format(resultado))\n",
    "            break\n",
    "print('OBRIGADO POR JOGAR')"
   ]
  },
  {
   "cell_type": "markdown",
   "id": "6a8e276b",
   "metadata": {},
   "source": [
    "# Análise de dados do grupo"
   ]
  },
  {
   "cell_type": "code",
   "execution_count": null,
   "id": "5f2fda9d",
   "metadata": {},
   "outputs": [
    {
     "name": "stdout",
     "output_type": "stream",
     "text": [
      "------------------------------------------------------------\n",
      "                   CADASTRE UMA PESSOA\n",
      "------------------------------------------------------------\n"
     ]
    }
   ],
   "source": [
    "print('------'*10)\n",
    "print('                   ''CADASTRE UMA PESSOA')\n",
    "print('------'*10)\n",
    "\n",
    "idade = int(input('Qual a idade:'))\n",
    "sexo = str(input('Qual o sexo?'))\n",
    "continuar = str(input('Deseja continuar [S/N]'))\n",
    "\n",
    "while continuar == 'S' or 's':\n",
    "    print('------' * 10)\n",
    "    idade = int(input('Qual a idade:'))\n",
    "    sexo = str(input('Qual o sexo?'))\n",
    "    continuar = str(input('Deseja continuar [S/N]'))\n",
    "    print('------' * 10)\n",
    "    if continuar == 'N' or 'n':\n",
    "        print('Todos os cadastros foram feitos')\n",
    "        break\n",
    "print('Agradeço pela preferência')"
   ]
  },
  {
   "cell_type": "markdown",
   "id": "2896e072",
   "metadata": {},
   "source": [
    "# Estatísticas em produtos"
   ]
  },
  {
   "cell_type": "code",
   "execution_count": null,
   "id": "512d97f2",
   "metadata": {},
   "outputs": [],
   "source": [
    "\n",
    "\n",
    "numb = ('zero', 'um', 'dois', 'tres', 'quatro','cinco', 'seis', 'sete', 'oito', 'nove', 'dez')\n",
    "\n",
    "while True:\n",
    "    valor = int(input('Digite um número entre 0 e 10:'))\n",
    "    #print('O número que você digitou foi {}, ele por extenso é {}'.format(valor, numb))\n",
    "    if 0 <= valor <11:\n",
    "        break\n",
    "    print('tente novamente')\n",
    "print('VOce escolheu o número {}, e seu número por extenso é {}'.format(valor,numb[valor]))"
   ]
  },
  {
   "cell_type": "code",
   "execution_count": null,
   "id": "a19a493f",
   "metadata": {},
   "outputs": [],
   "source": [
    "print('------'*10)\n",
    "print('                   ''LOJA BARATÃO')\n",
    "print('------'*10)\n",
    "\n",
    "total = totalmil= menor = cont =0\n",
    "barato = ''\n",
    "while True:\n",
    "    produto = str(input('Nome do produto:'))\n",
    "    preço = float(input('Qual o valor do produto:'))\n",
    "    total += preço\n",
    "    cont += 1\n",
    "    if preço > 1000:\n",
    "        totalmil +=1\n",
    "    if cont == 1:\n",
    "        menor = preço\n",
    "        barato = produto\n",
    "    else:\n",
    "        if preço < menor:\n",
    "            menor = preço \n",
    "            barato = produto\n",
    "    resp = ' '\n",
    "    while resp not in 'SN':\n",
    "        resp = str(input('Quer continuar?'))\n",
    "    if resp == 'N':\n",
    "        break\n",
    "print('O valor total deu {}'.format(total))\n",
    "print('Temos {}, que custa mais de 1000$'.format(totalmil))\n",
    "print('O produto mais barato é {}, que custa {}'.format(barato, menor))"
   ]
  },
  {
   "cell_type": "markdown",
   "id": "466955ec",
   "metadata": {},
   "source": [
    "# Numero por extenso\n",
    "\n"
   ]
  },
  {
   "cell_type": "code",
   "execution_count": null,
   "id": "60f6c3f9",
   "metadata": {},
   "outputs": [],
   "source": [
    "numb = ('zero', 'um', 'dois', 'tres', 'quatro','cinco', 'seis', 'sete', 'oito', 'nove', 'dez')\n",
    "\n",
    "while True:\n",
    "    valor = int(input('Digite um número entre 0 e 10:'))\n",
    "    #print('O número que você digitou foi {}, ele por extenso é {}'.format(valor, numb))\n",
    "    if 0 <= valor <11:\n",
    "        break\n",
    "    print('tente novamente')\n",
    "print('VOce escolheu o número {}, e seu número por extenso é {}'.format(valor,numb[valor]))"
   ]
  },
  {
   "cell_type": "markdown",
   "id": "7a1b1d1e",
   "metadata": {},
   "source": [
    "# Times"
   ]
  },
  {
   "cell_type": "code",
   "execution_count": null,
   "id": "bc304f49",
   "metadata": {},
   "outputs": [],
   "source": [
    "times = ('Flamengo','Cruzeiro','Inter','Vasco','Juventude','Vitoria','Gremio','Botafogo','Atletico','Corinthias','Santos')\n",
    "print('Times do Br',times)\n",
    "print('5 primeiros lugares', times[0:5])\n",
    "print('Os quatros ultimos', times[7:11])\n",
    "print(sorted (times))\n",
    "print(f'O Gremio esta na {times.index(\"Gremio\")}')"
   ]
  },
  {
   "cell_type": "markdown",
   "id": "2b5cb4cf",
   "metadata": {},
   "source": [
    "# Menor e Maior valores de uma tupla"
   ]
  },
  {
   "cell_type": "code",
   "execution_count": 1,
   "id": "3847ca52",
   "metadata": {},
   "outputs": [
    {
     "name": "stdout",
     "output_type": "stream",
     "text": [
      "O número sorteado foi (5, 4, 10, 2, 10)\n",
      "o maior valor foi 10\n",
      "O menor valor foi 2\n"
     ]
    }
   ],
   "source": [
    "from random import randint\n",
    "a = (randint(1,10),randint(1,10),randint(1,10),randint(1,10),randint(1,10))\n",
    "print('O número sorteado foi {}'.format(a))\n",
    "print('o maior valor foi {}'.format(max(a)))\n",
    "print('O menor valor foi {}'.format(min(a)))"
   ]
  },
  {
   "cell_type": "code",
   "execution_count": 8,
   "id": "7ba50ad0",
   "metadata": {},
   "outputs": [
    {
     "name": "stdout",
     "output_type": "stream",
     "text": [
      "Digite um numero:9\n",
      "Digite um numero:3\n",
      "Digite um numero:5\n",
      "Digite um numero:7\n",
      "o valor 9 apareceu 1\n",
      "o valor 3 apareceu 1\n"
     ]
    }
   ],
   "source": [
    "a = int(input('Digite um numero:'))\n",
    "b = int(input('Digite um numero:'))\n",
    "c = int(input('Digite um numero:'))\n",
    "d = int(input('Digite um numero:'))\n",
    "\n",
    "valores = (a,b,c,d)\n",
    "print('o valor 9 apareceu {}'.format(valores.count(9)))\n",
    "print('o valor 3 apareceu {}'.format(valores.count(3)))\n"
   ]
  },
  {
   "cell_type": "code",
   "execution_count": null,
   "id": "64ba722f",
   "metadata": {},
   "outputs": [],
   "source": []
  }
 ],
 "metadata": {
  "kernelspec": {
   "display_name": "Python 3 (ipykernel)",
   "language": "python",
   "name": "python3"
  },
  "language_info": {
   "codemirror_mode": {
    "name": "ipython",
    "version": 3
   },
   "file_extension": ".py",
   "mimetype": "text/x-python",
   "name": "python",
   "nbconvert_exporter": "python",
   "pygments_lexer": "ipython3",
   "version": "3.11.5"
  }
 },
 "nbformat": 4,
 "nbformat_minor": 5
}
